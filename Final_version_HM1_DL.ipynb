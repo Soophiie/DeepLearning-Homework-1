{
  "nbformat": 4,
  "nbformat_minor": 0,
  "metadata": {
    "colab": {
      "provenance": [],
      "machine_shape": "hm"
    },
    "kernelspec": {
      "name": "python3",
      "display_name": "Python 3"
    },
    "language_info": {
      "name": "python"
    }
  },
  "cells": [
    {
      "cell_type": "code",
      "execution_count": null,
      "metadata": {
        "id": "Ehg3eiLgY27Q"
      },
      "outputs": [],
      "source": [
        "import torch\n",
        "import torch.nn as nn\n",
        "import torch.optim as optim\n",
        "from torch.utils.data import DataLoader\n",
        "from torchvision import datasets, transforms, models\n",
        "import os\n",
        "import csv\n",
        "import torch.optim.lr_scheduler as lr_scheduler\n",
        "from tqdm import tqdm\n",
        "from early_stopping_pytorch import EarlyStopping\n",
        "import matplotlib.pyplot as plt"
      ]
    },
    {
      "cell_type": "code",
      "source": [
        "# check if GPU is available\n",
        "device = torch.device(\"cuda\" if torch.cuda.is_available() else \"cpu\")\n",
        "print(f\"Using device: {device}\")\n",
        "\n",
        "from google.colab import drive\n",
        "drive.mount('/content/drive')\n",
        "\n",
        "#file path in google drive\n",
        "data_dir = \"/content/drive/MyDrive/data\""
      ],
      "metadata": {
        "colab": {
          "base_uri": "https://localhost:8080/"
        },
        "id": "cy59GM0EZhuG",
        "outputId": "a75b63a2-6f1f-4585-dc3f-1a70343b9dc0"
      },
      "execution_count": null,
      "outputs": [
        {
          "output_type": "stream",
          "name": "stdout",
          "text": [
            "Using device: cpu\n",
            "Drive already mounted at /content/drive; to attempt to forcibly remount, call drive.mount(\"/content/drive\", force_remount=True).\n"
          ]
        }
      ]
    },
    {
      "cell_type": "markdown",
      "source": [
        "**Training model**"
      ],
      "metadata": {
        "id": "5VflYVS5w7pG"
      }
    },
    {
      "cell_type": "code",
      "source": [
        "# Define Transformations for train data\n",
        "\n",
        "train_transform = transforms.Compose([\n",
        "    transforms.Resize((224, 224)),\n",
        "    transforms.RandomHorizontalFlip(), #adding more data\n",
        "    transforms.RandomRotation(degrees=15),\n",
        "    transforms.ColorJitter(brightness=0.2, contrast=0.2, saturation=0.2, hue=0.1), #petit valeur pour ne pas trop changer l'image\n",
        "    transforms.ToTensor(),\n",
        "    transforms.RandomErasing(p=0.25),\n",
        "    transforms.Normalize(mean=[0.485, 0.456, 0.406], std=[0.229, 0.224, 0.225])\n",
        "])\n",
        "\n",
        "# Define Transformation for validation and test data\n",
        "test_transform = transforms.Compose([\n",
        "    transforms.Resize((224, 224)),\n",
        "    transforms.ToTensor(),\n",
        "    transforms.Normalize(mean=[0.485, 0.456, 0.406], std=[0.229, 0.224, 0.225])\n",
        "])\n",
        "\n",
        "# data loading\n",
        "train_dataset = datasets.ImageFolder(os.path.join(data_dir, 'train'), transform=train_transform)\n",
        "val_dataset = datasets.ImageFolder(os.path.join(data_dir, 'val'), transform=test_transform)\n",
        "\n",
        "# create DataLoader\n",
        "train_loader = DataLoader(train_dataset, batch_size=128, shuffle=True, num_workers=4, pin_memory=True)\n",
        "val_loader = DataLoader(val_dataset, batch_size=128, shuffle=False, num_workers=4, pin_memory=True)\n",
        "\n",
        "# display dataset information\n",
        "print(f\"Nombre d'images d'entraînement : {len(train_dataset)}\")\n",
        "print(f\"Nombre d'images de validation : {len(val_dataset)}\")\n",
        "print(f\"Nombre de classes dans train : {len(train_dataset.classes)}\")\n",
        "print(f\"Nombre de classes dans val : {len(val_dataset.classes)}\")\n",
        "\n",
        "# path to data directory\n",
        "data_dir = \"/content/drive/MyDrive/data\"\n"
      ],
      "metadata": {
        "id": "ejMN_o9ww9Ul",
        "colab": {
          "base_uri": "https://localhost:8080/"
        },
        "outputId": "3035ca58-f2c8-466e-ae91-49ba7fbd6cd6"
      },
      "execution_count": null,
      "outputs": [
        {
          "output_type": "stream",
          "name": "stdout",
          "text": [
            "Nombre d'images d'entraînement : 20724\n",
            "Nombre d'images de validation : 300\n",
            "Nombre de classes dans train : 100\n",
            "Nombre de classes dans val : 100\n"
          ]
        }
      ]
    },
    {
      "cell_type": "code",
      "source": [
        "# Loading ResNet-50 pretrained\n",
        "model = models.resnet50(pretrained=True)\n",
        "\n",
        "for name, param in model.named_parameters():\n",
        "    if name.startswith(\"layer3\") or name.startswith(\"layer4\") or name.startswith(\"fc\"):\n",
        "        param.requires_grad = True\n",
        "    else:\n",
        "        param.requires_grad = False #on gèle les couches pour ne pas les modifier pendant l'entrainement, seule la dernière couche sera modifiée. Réduit le temps d'entrainement et évite le surapprentissage\n",
        "\n",
        "# Modify the final layer to output predictions for 100 classes\n",
        "num_classes = 100\n",
        "\n",
        "model.fc = nn.Sequential(\n",
        "    nn.Dropout(0.4),\n",
        "    nn.Linear(model.fc.in_features, 512),\n",
        "    nn.ReLU(),\n",
        "    nn.Dropout(0.3),\n",
        "    nn.Linear(512, num_classes)\n",
        ")\n",
        "\n",
        "# check if GPU is available again\n",
        "model = model.to(device)\n",
        "\n",
        "# Define Loss function, optimizer and scheduler\n",
        "criterion = nn.CrossEntropyLoss(label_smoothing=0.15)\n",
        "optimizer = optim.Adam(filter(lambda p: p.requires_grad, model.parameters()), lr=1e-5, weight_decay=1e-4) #lr smaller to be more stable and progressively decrease it\n",
        "scheduler = lr_scheduler.ReduceLROnPlateau(optimizer, mode='min', factor=0.1, patience=5, verbose=True)\n",
        "\n",
        "# adding earlystopping for improvement\n",
        "early_stopping = EarlyStopping(patience=10, verbose=True)\n",
        "\n",
        "# list created for curve plot\n",
        "train_acc_list, val_acc_list, train_loss_list, val_loss_list = [], [], [], []"
      ],
      "metadata": {
        "id": "lXJ4Z2gdxEis",
        "colab": {
          "base_uri": "https://localhost:8080/"
        },
        "outputId": "50ba3437-3ab5-4eeb-8e26-ce4def3729ec"
      },
      "execution_count": null,
      "outputs": [
        {
          "output_type": "stream",
          "name": "stderr",
          "text": [
            "/usr/local/lib/python3.11/dist-packages/torchvision/models/_utils.py:208: UserWarning: The parameter 'pretrained' is deprecated since 0.13 and may be removed in the future, please use 'weights' instead.\n",
            "  warnings.warn(\n",
            "/usr/local/lib/python3.11/dist-packages/torchvision/models/_utils.py:223: UserWarning: Arguments other than a weight enum or `None` for 'weights' are deprecated since 0.13 and may be removed in the future. The current behavior is equivalent to passing `weights=ResNet50_Weights.IMAGENET1K_V1`. You can also use `weights=ResNet50_Weights.DEFAULT` to get the most up-to-date weights.\n",
            "  warnings.warn(msg)\n",
            "Downloading: \"https://download.pytorch.org/models/resnet50-0676ba61.pth\" to /root/.cache/torch/hub/checkpoints/resnet50-0676ba61.pth\n",
            "100%|██████████| 97.8M/97.8M [00:00<00:00, 179MB/s]\n",
            "/usr/local/lib/python3.11/dist-packages/torch/optim/lr_scheduler.py:62: UserWarning: The verbose parameter is deprecated. Please use get_last_lr() to access the learning rate.\n",
            "  warnings.warn(\n"
          ]
        }
      ]
    },
    {
      "cell_type": "code",
      "source": [
        "# define training model with validation\n",
        "def train_model(model, train_loader, val_loader, criterion, optimizer, scheduler, num_epochs=50):\n",
        "    best_val_acc = 0.0\n",
        "\n",
        "    for epoch in range(num_epochs):\n",
        "        model.train()\n",
        "        running_loss = 0.0\n",
        "        correct = 0\n",
        "        total = 0\n",
        "\n",
        "        for inputs, labels in tqdm(train_loader, desc=f\"Train Epoch {epoch+1}\"):\n",
        "            inputs, labels = inputs.to(device), labels.to(device)\n",
        "            optimizer.zero_grad()\n",
        "            outputs = model(inputs)\n",
        "            loss = criterion(outputs, labels)\n",
        "            loss.backward()\n",
        "            optimizer.step()\n",
        "\n",
        "            running_loss += loss.item()\n",
        "            _, predicted = outputs.max(1)\n",
        "            total += labels.size(0)\n",
        "            correct += predicted.eq(labels).sum().item()\n",
        "\n",
        "        train_loss = running_loss / len(train_loader)\n",
        "        train_acc = 100. * correct / total\n",
        "        train_loss_list.append(train_loss)\n",
        "        train_acc_list.append(train_acc)\n",
        "        print(f\"Epoch [{epoch+1}/{num_epochs}], Train Loss: {train_loss:.4f}, Train Acc: {train_acc:.2f}%\")\n",
        "\n",
        "        # Validation part\n",
        "        model.eval()\n",
        "        val_loss = 0.0\n",
        "        val_correct = 0\n",
        "        val_total = 0\n",
        "\n",
        "        with torch.no_grad():\n",
        "            for inputs, labels in tqdm(val_loader, desc=f\"Val Epoch {epoch+1}\"):\n",
        "                inputs, labels = inputs.to(device), labels.to(device)\n",
        "                outputs = model(inputs)\n",
        "                loss = criterion(outputs, labels)\n",
        "\n",
        "                val_loss += loss.item()\n",
        "                _, predicted = outputs.max(1)\n",
        "                val_total += labels.size(0)\n",
        "                val_correct += predicted.eq(labels).sum().item()\n",
        "\n",
        "        val_loss /= len(val_loader)\n",
        "        val_acc = 100. * val_correct / val_total\n",
        "        val_loss_list.append(val_loss)\n",
        "        val_acc_list.append(val_acc)\n",
        "        print(f\"Epoch [{epoch+1}/{num_epochs}], Val Loss: {val_loss:.4f}, Val Acc: {val_acc:.2f}%\")\n",
        "\n",
        "        # early stopping to stop running when no more improvement\n",
        "        scheduler.step(val_loss)\n",
        "        early_stopping(val_loss, model)\n",
        "\n",
        "        # save the best model\n",
        "        if val_acc > best_val_acc:\n",
        "            best_val_acc = val_acc\n",
        "            torch.save(model.state_dict(), 'best_modelV3.pth')\n",
        "            print(f\"!! New best model saved (Val Acc: {val_acc:.2f}%)\")\n",
        "\n",
        "        # \n",
        "        if early_stopping.early_stop:\n",
        "            print(\"Early stopping declenched !\")\n",
        "            break\n",
        "\n",
        "# training start...\n",
        "train_model(model, train_loader, val_loader, criterion, optimizer, scheduler, num_epochs=50)\n",
        "\n",
        "# save final result\n",
        "model_save_path = 'resnet50_modelV3.pth'\n",
        "torch.save(model.state_dict(), model_save_path)\n",
        "print(f\"Model sauved in : {model_save_path}\")\n",
        "\n",
        "# Plot training curve\n",
        "plt.figure(figsize=(12, 5))\n",
        "plt.subplot(1, 2, 1)\n",
        "plt.plot(train_loss_list, label='Train Loss')\n",
        "plt.plot(val_loss_list, label='Val Loss')\n",
        "plt.title(\"Loss\")\n",
        "plt.legend()\n",
        "\n",
        "plt.subplot(1, 2, 2)\n",
        "plt.plot(train_acc_list, label='Train Acc')\n",
        "plt.plot(val_acc_list, label='Val Acc')\n",
        "plt.title(\"Accuracy\")\n",
        "plt.legend()\n",
        "plt.show()"
      ],
      "metadata": {
        "id": "1djdAe2oxF1n",
        "colab": {
          "base_uri": "https://localhost:8080/",
          "height": 1000
        },
        "outputId": "e2338445-d5bd-4ce9-b473-49eb76f2c867"
      },
      "execution_count": null,
      "outputs": [
        {
          "output_type": "stream",
          "name": "stderr",
          "text": [
            "Train Epoch 1: 100%|██████████| 162/162 [01:52<00:00,  1.44it/s]\n"
          ]
        },
        {
          "output_type": "stream",
          "name": "stdout",
          "text": [
            "Epoch [1/50], Train Loss: 4.4733, Train Acc: 5.68%\n"
          ]
        },
        {
          "output_type": "stream",
          "name": "stderr",
          "text": [
            "Val Epoch 1: 100%|██████████| 3/3 [00:02<00:00,  1.36it/s]\n"
          ]
        },
        {
          "output_type": "stream",
          "name": "stdout",
          "text": [
            "Epoch [1/50], Val Loss: 4.4123, Val Acc: 14.00%\n",
            "Validation loss decreased (inf --> 4.412326).  Saving model ...\n",
            "!! New best model saved (Val Acc: 14.00%)\n"
          ]
        },
        {
          "output_type": "stream",
          "name": "stderr",
          "text": [
            "Train Epoch 2: 100%|██████████| 162/162 [01:52<00:00,  1.44it/s]\n"
          ]
        },
        {
          "output_type": "stream",
          "name": "stdout",
          "text": [
            "Epoch [2/50], Train Loss: 3.9815, Train Acc: 22.11%\n"
          ]
        },
        {
          "output_type": "stream",
          "name": "stderr",
          "text": [
            "Val Epoch 2: 100%|██████████| 3/3 [00:02<00:00,  1.40it/s]\n"
          ]
        },
        {
          "output_type": "stream",
          "name": "stdout",
          "text": [
            "Epoch [2/50], Val Loss: 4.0389, Val Acc: 17.67%\n",
            "Validation loss decreased (4.412326 --> 4.038907).  Saving model ...\n",
            "!! New best model saved (Val Acc: 17.67%)\n"
          ]
        },
        {
          "output_type": "stream",
          "name": "stderr",
          "text": [
            "Train Epoch 3: 100%|██████████| 162/162 [01:51<00:00,  1.45it/s]\n"
          ]
        },
        {
          "output_type": "stream",
          "name": "stdout",
          "text": [
            "Epoch [3/50], Train Loss: 3.4949, Train Acc: 34.21%\n"
          ]
        },
        {
          "output_type": "stream",
          "name": "stderr",
          "text": [
            "Val Epoch 3: 100%|██████████| 3/3 [00:02<00:00,  1.41it/s]\n"
          ]
        },
        {
          "output_type": "stream",
          "name": "stdout",
          "text": [
            "Epoch [3/50], Val Loss: 3.7953, Val Acc: 23.67%\n",
            "Validation loss decreased (4.038907 --> 3.795279).  Saving model ...\n",
            "!! New best model saved (Val Acc: 23.67%)\n"
          ]
        },
        {
          "output_type": "stream",
          "name": "stderr",
          "text": [
            "Train Epoch 4: 100%|██████████| 162/162 [01:52<00:00,  1.44it/s]\n"
          ]
        },
        {
          "output_type": "stream",
          "name": "stdout",
          "text": [
            "Epoch [4/50], Train Loss: 3.1452, Train Acc: 42.19%\n"
          ]
        },
        {
          "output_type": "stream",
          "name": "stderr",
          "text": [
            "Val Epoch 4: 100%|██████████| 3/3 [00:02<00:00,  1.37it/s]\n"
          ]
        },
        {
          "output_type": "stream",
          "name": "stdout",
          "text": [
            "Epoch [4/50], Val Loss: 3.5642, Val Acc: 27.00%\n",
            "Validation loss decreased (3.795279 --> 3.564193).  Saving model ...\n",
            "!! New best model saved (Val Acc: 27.00%)\n"
          ]
        },
        {
          "output_type": "stream",
          "name": "stderr",
          "text": [
            "Train Epoch 5: 100%|██████████| 162/162 [01:50<00:00,  1.46it/s]\n"
          ]
        },
        {
          "output_type": "stream",
          "name": "stdout",
          "text": [
            "Epoch [5/50], Train Loss: 2.9052, Train Acc: 47.63%\n"
          ]
        },
        {
          "output_type": "stream",
          "name": "stderr",
          "text": [
            "Val Epoch 5: 100%|██████████| 3/3 [00:02<00:00,  1.39it/s]\n"
          ]
        },
        {
          "output_type": "stream",
          "name": "stdout",
          "text": [
            "Epoch [5/50], Val Loss: 3.3610, Val Acc: 30.67%\n",
            "Validation loss decreased (3.564193 --> 3.361031).  Saving model ...\n",
            "!! New best model saved (Val Acc: 30.67%)\n"
          ]
        },
        {
          "output_type": "stream",
          "name": "stderr",
          "text": [
            "Train Epoch 6: 100%|██████████| 162/162 [01:51<00:00,  1.45it/s]\n"
          ]
        },
        {
          "output_type": "stream",
          "name": "stdout",
          "text": [
            "Epoch [6/50], Train Loss: 2.7170, Train Acc: 52.68%\n"
          ]
        },
        {
          "output_type": "stream",
          "name": "stderr",
          "text": [
            "Val Epoch 6: 100%|██████████| 3/3 [00:02<00:00,  1.40it/s]\n"
          ]
        },
        {
          "output_type": "stream",
          "name": "stdout",
          "text": [
            "Epoch [6/50], Val Loss: 3.1995, Val Acc: 35.67%\n",
            "Validation loss decreased (3.361031 --> 3.199512).  Saving model ...\n",
            "!! New best model saved (Val Acc: 35.67%)\n"
          ]
        },
        {
          "output_type": "stream",
          "name": "stderr",
          "text": [
            "Train Epoch 7: 100%|██████████| 162/162 [01:51<00:00,  1.45it/s]\n"
          ]
        },
        {
          "output_type": "stream",
          "name": "stdout",
          "text": [
            "Epoch [7/50], Train Loss: 2.5662, Train Acc: 56.94%\n"
          ]
        },
        {
          "output_type": "stream",
          "name": "stderr",
          "text": [
            "Val Epoch 7: 100%|██████████| 3/3 [00:02<00:00,  1.41it/s]\n"
          ]
        },
        {
          "output_type": "stream",
          "name": "stdout",
          "text": [
            "Epoch [7/50], Val Loss: 3.0348, Val Acc: 39.33%\n",
            "Validation loss decreased (3.199512 --> 3.034847).  Saving model ...\n",
            "!! New best model saved (Val Acc: 39.33%)\n"
          ]
        },
        {
          "output_type": "stream",
          "name": "stderr",
          "text": [
            "Train Epoch 8: 100%|██████████| 162/162 [01:52<00:00,  1.45it/s]\n"
          ]
        },
        {
          "output_type": "stream",
          "name": "stdout",
          "text": [
            "Epoch [8/50], Train Loss: 2.4333, Train Acc: 60.61%\n"
          ]
        },
        {
          "output_type": "stream",
          "name": "stderr",
          "text": [
            "Val Epoch 8: 100%|██████████| 3/3 [00:02<00:00,  1.35it/s]\n"
          ]
        },
        {
          "output_type": "stream",
          "name": "stdout",
          "text": [
            "Epoch [8/50], Val Loss: 2.9073, Val Acc: 42.67%\n",
            "Validation loss decreased (3.034847 --> 2.907311).  Saving model ...\n",
            "!! New best model saved (Val Acc: 42.67%)\n"
          ]
        },
        {
          "output_type": "stream",
          "name": "stderr",
          "text": [
            "Train Epoch 9: 100%|██████████| 162/162 [01:52<00:00,  1.44it/s]\n"
          ]
        },
        {
          "output_type": "stream",
          "name": "stdout",
          "text": [
            "Epoch [9/50], Train Loss: 2.3328, Train Acc: 63.18%\n"
          ]
        },
        {
          "output_type": "stream",
          "name": "stderr",
          "text": [
            "Val Epoch 9: 100%|██████████| 3/3 [00:02<00:00,  1.36it/s]\n"
          ]
        },
        {
          "output_type": "stream",
          "name": "stdout",
          "text": [
            "Epoch [9/50], Val Loss: 2.7727, Val Acc: 44.67%\n",
            "Validation loss decreased (2.907311 --> 2.772661).  Saving model ...\n",
            "!! New best model saved (Val Acc: 44.67%)\n"
          ]
        },
        {
          "output_type": "stream",
          "name": "stderr",
          "text": [
            "Train Epoch 10: 100%|██████████| 162/162 [01:53<00:00,  1.43it/s]\n"
          ]
        },
        {
          "output_type": "stream",
          "name": "stdout",
          "text": [
            "Epoch [10/50], Train Loss: 2.2330, Train Acc: 66.24%\n"
          ]
        },
        {
          "output_type": "stream",
          "name": "stderr",
          "text": [
            "Val Epoch 10: 100%|██████████| 3/3 [00:02<00:00,  1.37it/s]\n"
          ]
        },
        {
          "output_type": "stream",
          "name": "stdout",
          "text": [
            "Epoch [10/50], Val Loss: 2.6456, Val Acc: 48.67%\n",
            "Validation loss decreased (2.772661 --> 2.645550).  Saving model ...\n",
            "!! New best model saved (Val Acc: 48.67%)\n"
          ]
        },
        {
          "output_type": "stream",
          "name": "stderr",
          "text": [
            "Train Epoch 11: 100%|██████████| 162/162 [01:53<00:00,  1.43it/s]\n"
          ]
        },
        {
          "output_type": "stream",
          "name": "stdout",
          "text": [
            "Epoch [11/50], Train Loss: 2.1522, Train Acc: 68.86%\n"
          ]
        },
        {
          "output_type": "stream",
          "name": "stderr",
          "text": [
            "Val Epoch 11: 100%|██████████| 3/3 [00:02<00:00,  1.34it/s]\n"
          ]
        },
        {
          "output_type": "stream",
          "name": "stdout",
          "text": [
            "Epoch [11/50], Val Loss: 2.5360, Val Acc: 50.00%\n",
            "Validation loss decreased (2.645550 --> 2.535990).  Saving model ...\n",
            "!! New best model saved (Val Acc: 50.00%)\n"
          ]
        },
        {
          "output_type": "stream",
          "name": "stderr",
          "text": [
            "Train Epoch 12: 100%|██████████| 162/162 [01:57<00:00,  1.38it/s]\n"
          ]
        },
        {
          "output_type": "stream",
          "name": "stdout",
          "text": [
            "Epoch [12/50], Train Loss: 2.0865, Train Acc: 70.62%\n"
          ]
        },
        {
          "output_type": "stream",
          "name": "stderr",
          "text": [
            "Val Epoch 12: 100%|██████████| 3/3 [00:02<00:00,  1.33it/s]\n"
          ]
        },
        {
          "output_type": "stream",
          "name": "stdout",
          "text": [
            "Epoch [12/50], Val Loss: 2.4322, Val Acc: 53.67%\n",
            "Validation loss decreased (2.535990 --> 2.432228).  Saving model ...\n",
            "!! New best model saved (Val Acc: 53.67%)\n"
          ]
        },
        {
          "output_type": "stream",
          "name": "stderr",
          "text": [
            "Train Epoch 13: 100%|██████████| 162/162 [01:56<00:00,  1.39it/s]\n"
          ]
        },
        {
          "output_type": "stream",
          "name": "stdout",
          "text": [
            "Epoch [13/50], Train Loss: 2.0250, Train Acc: 72.53%\n"
          ]
        },
        {
          "output_type": "stream",
          "name": "stderr",
          "text": [
            "Val Epoch 13: 100%|██████████| 3/3 [00:02<00:00,  1.33it/s]\n"
          ]
        },
        {
          "output_type": "stream",
          "name": "stdout",
          "text": [
            "Epoch [13/50], Val Loss: 2.3634, Val Acc: 54.00%\n",
            "Validation loss decreased (2.432228 --> 2.363436).  Saving model ...\n",
            "!! New best model saved (Val Acc: 54.00%)\n"
          ]
        },
        {
          "output_type": "stream",
          "name": "stderr",
          "text": [
            "Train Epoch 14: 100%|██████████| 162/162 [01:55<00:00,  1.40it/s]\n"
          ]
        },
        {
          "output_type": "stream",
          "name": "stdout",
          "text": [
            "Epoch [14/50], Train Loss: 1.9680, Train Acc: 74.46%\n"
          ]
        },
        {
          "output_type": "stream",
          "name": "stderr",
          "text": [
            "Val Epoch 14: 100%|██████████| 3/3 [00:02<00:00,  1.35it/s]\n"
          ]
        },
        {
          "output_type": "stream",
          "name": "stdout",
          "text": [
            "Epoch [14/50], Val Loss: 2.2853, Val Acc: 58.00%\n",
            "Validation loss decreased (2.363436 --> 2.285281).  Saving model ...\n",
            "!! New best model saved (Val Acc: 58.00%)\n"
          ]
        },
        {
          "output_type": "stream",
          "name": "stderr",
          "text": [
            "Train Epoch 15: 100%|██████████| 162/162 [01:54<00:00,  1.41it/s]\n"
          ]
        },
        {
          "output_type": "stream",
          "name": "stdout",
          "text": [
            "Epoch [15/50], Train Loss: 1.9227, Train Acc: 76.07%\n"
          ]
        },
        {
          "output_type": "stream",
          "name": "stderr",
          "text": [
            "Val Epoch 15: 100%|██████████| 3/3 [00:02<00:00,  1.36it/s]\n"
          ]
        },
        {
          "output_type": "stream",
          "name": "stdout",
          "text": [
            "Epoch [15/50], Val Loss: 2.2188, Val Acc: 62.00%\n",
            "Validation loss decreased (2.285281 --> 2.218826).  Saving model ...\n",
            "!! New best model saved (Val Acc: 62.00%)\n"
          ]
        },
        {
          "output_type": "stream",
          "name": "stderr",
          "text": [
            "Train Epoch 16: 100%|██████████| 162/162 [01:53<00:00,  1.43it/s]\n"
          ]
        },
        {
          "output_type": "stream",
          "name": "stdout",
          "text": [
            "Epoch [16/50], Train Loss: 1.8793, Train Acc: 77.36%\n"
          ]
        },
        {
          "output_type": "stream",
          "name": "stderr",
          "text": [
            "Val Epoch 16: 100%|██████████| 3/3 [00:02<00:00,  1.38it/s]\n"
          ]
        },
        {
          "output_type": "stream",
          "name": "stdout",
          "text": [
            "Epoch [16/50], Val Loss: 2.1555, Val Acc: 66.33%\n",
            "Validation loss decreased (2.218826 --> 2.155453).  Saving model ...\n",
            "!! New best model saved (Val Acc: 66.33%)\n"
          ]
        },
        {
          "output_type": "stream",
          "name": "stderr",
          "text": [
            "Train Epoch 17: 100%|██████████| 162/162 [01:52<00:00,  1.44it/s]\n"
          ]
        },
        {
          "output_type": "stream",
          "name": "stdout",
          "text": [
            "Epoch [17/50], Train Loss: 1.8413, Train Acc: 78.50%\n"
          ]
        },
        {
          "output_type": "stream",
          "name": "stderr",
          "text": [
            "Val Epoch 17: 100%|██████████| 3/3 [00:02<00:00,  1.33it/s]\n"
          ]
        },
        {
          "output_type": "stream",
          "name": "stdout",
          "text": [
            "Epoch [17/50], Val Loss: 2.1260, Val Acc: 65.33%\n",
            "Validation loss decreased (2.155453 --> 2.126026).  Saving model ...\n"
          ]
        },
        {
          "output_type": "stream",
          "name": "stderr",
          "text": [
            "Train Epoch 18: 100%|██████████| 162/162 [01:53<00:00,  1.43it/s]\n"
          ]
        },
        {
          "output_type": "stream",
          "name": "stdout",
          "text": [
            "Epoch [18/50], Train Loss: 1.7971, Train Acc: 80.21%\n"
          ]
        },
        {
          "output_type": "stream",
          "name": "stderr",
          "text": [
            "Val Epoch 18: 100%|██████████| 3/3 [00:02<00:00,  1.36it/s]\n"
          ]
        },
        {
          "output_type": "stream",
          "name": "stdout",
          "text": [
            "Epoch [18/50], Val Loss: 2.0784, Val Acc: 68.00%\n",
            "Validation loss decreased (2.126026 --> 2.078379).  Saving model ...\n",
            "!! New best model saved (Val Acc: 68.00%)\n"
          ]
        },
        {
          "output_type": "stream",
          "name": "stderr",
          "text": [
            "Train Epoch 19: 100%|██████████| 162/162 [01:52<00:00,  1.44it/s]\n"
          ]
        },
        {
          "output_type": "stream",
          "name": "stdout",
          "text": [
            "Epoch [19/50], Train Loss: 1.7694, Train Acc: 81.16%\n"
          ]
        },
        {
          "output_type": "stream",
          "name": "stderr",
          "text": [
            "Val Epoch 19: 100%|██████████| 3/3 [00:02<00:00,  1.40it/s]\n"
          ]
        },
        {
          "output_type": "stream",
          "name": "stdout",
          "text": [
            "Epoch [19/50], Val Loss: 2.0266, Val Acc: 70.00%\n",
            "Validation loss decreased (2.078379 --> 2.026624).  Saving model ...\n",
            "!! New best model saved (Val Acc: 70.00%)\n"
          ]
        },
        {
          "output_type": "stream",
          "name": "stderr",
          "text": [
            "Train Epoch 20: 100%|██████████| 162/162 [01:52<00:00,  1.45it/s]\n"
          ]
        },
        {
          "output_type": "stream",
          "name": "stdout",
          "text": [
            "Epoch [20/50], Train Loss: 1.7461, Train Acc: 81.94%\n"
          ]
        },
        {
          "output_type": "stream",
          "name": "stderr",
          "text": [
            "Val Epoch 20: 100%|██████████| 3/3 [00:02<00:00,  1.40it/s]\n"
          ]
        },
        {
          "output_type": "stream",
          "name": "stdout",
          "text": [
            "Epoch [20/50], Val Loss: 2.0036, Val Acc: 70.33%\n",
            "Validation loss decreased (2.026624 --> 2.003581).  Saving model ...\n",
            "!! New best model saved (Val Acc: 70.33%)\n"
          ]
        },
        {
          "output_type": "stream",
          "name": "stderr",
          "text": [
            "Train Epoch 21: 100%|██████████| 162/162 [01:53<00:00,  1.43it/s]\n"
          ]
        },
        {
          "output_type": "stream",
          "name": "stdout",
          "text": [
            "Epoch [21/50], Train Loss: 1.7200, Train Acc: 82.72%\n"
          ]
        },
        {
          "output_type": "stream",
          "name": "stderr",
          "text": [
            "Val Epoch 21: 100%|██████████| 3/3 [00:02<00:00,  1.41it/s]\n"
          ]
        },
        {
          "output_type": "stream",
          "name": "stdout",
          "text": [
            "Epoch [21/50], Val Loss: 1.9641, Val Acc: 72.33%\n",
            "Validation loss decreased (2.003581 --> 1.964079).  Saving model ...\n",
            "!! New best model saved (Val Acc: 72.33%)\n"
          ]
        },
        {
          "output_type": "stream",
          "name": "stderr",
          "text": [
            "Train Epoch 22: 100%|██████████| 162/162 [01:52<00:00,  1.44it/s]\n"
          ]
        },
        {
          "output_type": "stream",
          "name": "stdout",
          "text": [
            "Epoch [22/50], Train Loss: 1.6892, Train Acc: 84.20%\n"
          ]
        },
        {
          "output_type": "stream",
          "name": "stderr",
          "text": [
            "Val Epoch 22: 100%|██████████| 3/3 [00:02<00:00,  1.34it/s]\n"
          ]
        },
        {
          "output_type": "stream",
          "name": "stdout",
          "text": [
            "Epoch [22/50], Val Loss: 1.9294, Val Acc: 73.67%\n",
            "Validation loss decreased (1.964079 --> 1.929368).  Saving model ...\n",
            "!! New best model saved (Val Acc: 73.67%)\n"
          ]
        },
        {
          "output_type": "stream",
          "name": "stderr",
          "text": [
            "Train Epoch 23: 100%|██████████| 162/162 [01:53<00:00,  1.42it/s]\n"
          ]
        },
        {
          "output_type": "stream",
          "name": "stdout",
          "text": [
            "Epoch [23/50], Train Loss: 1.6685, Train Acc: 84.80%\n"
          ]
        },
        {
          "output_type": "stream",
          "name": "stderr",
          "text": [
            "Val Epoch 23: 100%|██████████| 3/3 [00:02<00:00,  1.36it/s]\n"
          ]
        },
        {
          "output_type": "stream",
          "name": "stdout",
          "text": [
            "Epoch [23/50], Val Loss: 1.9263, Val Acc: 73.00%\n",
            "Validation loss decreased (1.929368 --> 1.926340).  Saving model ...\n"
          ]
        },
        {
          "output_type": "stream",
          "name": "stderr",
          "text": [
            "Train Epoch 24: 100%|██████████| 162/162 [01:53<00:00,  1.43it/s]\n"
          ]
        },
        {
          "output_type": "stream",
          "name": "stdout",
          "text": [
            "Epoch [24/50], Train Loss: 1.6480, Train Acc: 85.16%\n"
          ]
        },
        {
          "output_type": "stream",
          "name": "stderr",
          "text": [
            "Val Epoch 24: 100%|██████████| 3/3 [00:02<00:00,  1.36it/s]\n"
          ]
        },
        {
          "output_type": "stream",
          "name": "stdout",
          "text": [
            "Epoch [24/50], Val Loss: 1.8872, Val Acc: 75.00%\n",
            "Validation loss decreased (1.926340 --> 1.887167).  Saving model ...\n",
            "!! New best model saved (Val Acc: 75.00%)\n"
          ]
        },
        {
          "output_type": "stream",
          "name": "stderr",
          "text": [
            "Train Epoch 25: 100%|██████████| 162/162 [01:52<00:00,  1.43it/s]\n"
          ]
        },
        {
          "output_type": "stream",
          "name": "stdout",
          "text": [
            "Epoch [25/50], Train Loss: 1.6287, Train Acc: 86.11%\n"
          ]
        },
        {
          "output_type": "stream",
          "name": "stderr",
          "text": [
            "Val Epoch 25: 100%|██████████| 3/3 [00:02<00:00,  1.36it/s]\n"
          ]
        },
        {
          "output_type": "stream",
          "name": "stdout",
          "text": [
            "Epoch [25/50], Val Loss: 1.8691, Val Acc: 74.00%\n",
            "Validation loss decreased (1.887167 --> 1.869072).  Saving model ...\n"
          ]
        },
        {
          "output_type": "stream",
          "name": "stderr",
          "text": [
            "Train Epoch 26: 100%|██████████| 162/162 [01:52<00:00,  1.44it/s]\n"
          ]
        },
        {
          "output_type": "stream",
          "name": "stdout",
          "text": [
            "Epoch [26/50], Train Loss: 1.6188, Train Acc: 86.27%\n"
          ]
        },
        {
          "output_type": "stream",
          "name": "stderr",
          "text": [
            "Val Epoch 26: 100%|██████████| 3/3 [00:02<00:00,  1.41it/s]\n"
          ]
        },
        {
          "output_type": "stream",
          "name": "stdout",
          "text": [
            "Epoch [26/50], Val Loss: 1.8882, Val Acc: 74.33%\n",
            "EarlyStopping counter: 1 out of 10\n"
          ]
        },
        {
          "output_type": "stream",
          "name": "stderr",
          "text": [
            "Train Epoch 27: 100%|██████████| 162/162 [01:52<00:00,  1.44it/s]\n"
          ]
        },
        {
          "output_type": "stream",
          "name": "stdout",
          "text": [
            "Epoch [27/50], Train Loss: 1.5942, Train Acc: 87.01%\n"
          ]
        },
        {
          "output_type": "stream",
          "name": "stderr",
          "text": [
            "Val Epoch 27: 100%|██████████| 3/3 [00:02<00:00,  1.32it/s]\n"
          ]
        },
        {
          "output_type": "stream",
          "name": "stdout",
          "text": [
            "Epoch [27/50], Val Loss: 1.8570, Val Acc: 75.00%\n",
            "Validation loss decreased (1.869072 --> 1.856977).  Saving model ...\n"
          ]
        },
        {
          "output_type": "stream",
          "name": "stderr",
          "text": [
            "Train Epoch 28: 100%|██████████| 162/162 [01:52<00:00,  1.44it/s]\n"
          ]
        },
        {
          "output_type": "stream",
          "name": "stdout",
          "text": [
            "Epoch [28/50], Train Loss: 1.5786, Train Acc: 87.57%\n"
          ]
        },
        {
          "output_type": "stream",
          "name": "stderr",
          "text": [
            "Val Epoch 28: 100%|██████████| 3/3 [00:02<00:00,  1.39it/s]\n"
          ]
        },
        {
          "output_type": "stream",
          "name": "stdout",
          "text": [
            "Epoch [28/50], Val Loss: 1.8428, Val Acc: 77.33%\n",
            "Validation loss decreased (1.856977 --> 1.842802).  Saving model ...\n",
            "!! New best model saved (Val Acc: 77.33%)\n"
          ]
        },
        {
          "output_type": "stream",
          "name": "stderr",
          "text": [
            "Train Epoch 29: 100%|██████████| 162/162 [01:52<00:00,  1.44it/s]\n"
          ]
        },
        {
          "output_type": "stream",
          "name": "stdout",
          "text": [
            "Epoch [29/50], Train Loss: 1.5684, Train Acc: 87.99%\n"
          ]
        },
        {
          "output_type": "stream",
          "name": "stderr",
          "text": [
            "Val Epoch 29: 100%|██████████| 3/3 [00:02<00:00,  1.38it/s]\n"
          ]
        },
        {
          "output_type": "stream",
          "name": "stdout",
          "text": [
            "Epoch [29/50], Val Loss: 1.8364, Val Acc: 76.33%\n",
            "Validation loss decreased (1.842802 --> 1.836444).  Saving model ...\n"
          ]
        },
        {
          "output_type": "stream",
          "name": "stderr",
          "text": [
            "Train Epoch 30: 100%|██████████| 162/162 [01:52<00:00,  1.44it/s]\n"
          ]
        },
        {
          "output_type": "stream",
          "name": "stdout",
          "text": [
            "Epoch [30/50], Train Loss: 1.5550, Train Acc: 88.25%\n"
          ]
        },
        {
          "output_type": "stream",
          "name": "stderr",
          "text": [
            "Val Epoch 30: 100%|██████████| 3/3 [00:02<00:00,  1.33it/s]\n"
          ]
        },
        {
          "output_type": "stream",
          "name": "stdout",
          "text": [
            "Epoch [30/50], Val Loss: 1.8276, Val Acc: 76.33%\n",
            "Validation loss decreased (1.836444 --> 1.827553).  Saving model ...\n"
          ]
        },
        {
          "output_type": "stream",
          "name": "stderr",
          "text": [
            "Train Epoch 31: 100%|██████████| 162/162 [01:52<00:00,  1.44it/s]\n"
          ]
        },
        {
          "output_type": "stream",
          "name": "stdout",
          "text": [
            "Epoch [31/50], Train Loss: 1.5399, Train Acc: 88.89%\n"
          ]
        },
        {
          "output_type": "stream",
          "name": "stderr",
          "text": [
            "Val Epoch 31: 100%|██████████| 3/3 [00:02<00:00,  1.40it/s]\n"
          ]
        },
        {
          "output_type": "stream",
          "name": "stdout",
          "text": [
            "Epoch [31/50], Val Loss: 1.7991, Val Acc: 77.67%\n",
            "Validation loss decreased (1.827553 --> 1.799086).  Saving model ...\n",
            "!! New best model saved (Val Acc: 77.67%)\n"
          ]
        },
        {
          "output_type": "stream",
          "name": "stderr",
          "text": [
            "Train Epoch 32: 100%|██████████| 162/162 [01:51<00:00,  1.45it/s]\n"
          ]
        },
        {
          "output_type": "stream",
          "name": "stdout",
          "text": [
            "Epoch [32/50], Train Loss: 1.5313, Train Acc: 88.91%\n"
          ]
        },
        {
          "output_type": "stream",
          "name": "stderr",
          "text": [
            "Val Epoch 32: 100%|██████████| 3/3 [00:02<00:00,  1.37it/s]\n"
          ]
        },
        {
          "output_type": "stream",
          "name": "stdout",
          "text": [
            "Epoch [32/50], Val Loss: 1.7990, Val Acc: 77.00%\n",
            "Validation loss decreased (1.799086 --> 1.799028).  Saving model ...\n"
          ]
        },
        {
          "output_type": "stream",
          "name": "stderr",
          "text": [
            "Train Epoch 33: 100%|██████████| 162/162 [01:51<00:00,  1.45it/s]\n"
          ]
        },
        {
          "output_type": "stream",
          "name": "stdout",
          "text": [
            "Epoch [33/50], Train Loss: 1.5150, Train Acc: 89.67%\n"
          ]
        },
        {
          "output_type": "stream",
          "name": "stderr",
          "text": [
            "Val Epoch 33: 100%|██████████| 3/3 [00:02<00:00,  1.34it/s]\n"
          ]
        },
        {
          "output_type": "stream",
          "name": "stdout",
          "text": [
            "Epoch [33/50], Val Loss: 1.7978, Val Acc: 77.33%\n",
            "Validation loss decreased (1.799028 --> 1.797770).  Saving model ...\n"
          ]
        },
        {
          "output_type": "stream",
          "name": "stderr",
          "text": [
            "Train Epoch 34: 100%|██████████| 162/162 [01:51<00:00,  1.45it/s]\n"
          ]
        },
        {
          "output_type": "stream",
          "name": "stdout",
          "text": [
            "Epoch [34/50], Train Loss: 1.5023, Train Acc: 89.98%\n"
          ]
        },
        {
          "output_type": "stream",
          "name": "stderr",
          "text": [
            "Val Epoch 34: 100%|██████████| 3/3 [00:02<00:00,  1.36it/s]\n"
          ]
        },
        {
          "output_type": "stream",
          "name": "stdout",
          "text": [
            "Epoch [34/50], Val Loss: 1.8147, Val Acc: 77.67%\n",
            "EarlyStopping counter: 1 out of 10\n"
          ]
        },
        {
          "output_type": "stream",
          "name": "stderr",
          "text": [
            "Train Epoch 35: 100%|██████████| 162/162 [01:52<00:00,  1.45it/s]\n"
          ]
        },
        {
          "output_type": "stream",
          "name": "stdout",
          "text": [
            "Epoch [35/50], Train Loss: 1.4941, Train Acc: 90.40%\n"
          ]
        },
        {
          "output_type": "stream",
          "name": "stderr",
          "text": [
            "Val Epoch 35: 100%|██████████| 3/3 [00:02<00:00,  1.35it/s]\n"
          ]
        },
        {
          "output_type": "stream",
          "name": "stdout",
          "text": [
            "Epoch [35/50], Val Loss: 1.7818, Val Acc: 78.67%\n",
            "Validation loss decreased (1.797770 --> 1.781797).  Saving model ...\n",
            "!! New best model saved (Val Acc: 78.67%)\n"
          ]
        },
        {
          "output_type": "stream",
          "name": "stderr",
          "text": [
            "Train Epoch 36: 100%|██████████| 162/162 [01:52<00:00,  1.44it/s]\n"
          ]
        },
        {
          "output_type": "stream",
          "name": "stdout",
          "text": [
            "Epoch [36/50], Train Loss: 1.4820, Train Acc: 90.76%\n"
          ]
        },
        {
          "output_type": "stream",
          "name": "stderr",
          "text": [
            "Val Epoch 36: 100%|██████████| 3/3 [00:02<00:00,  1.39it/s]\n"
          ]
        },
        {
          "output_type": "stream",
          "name": "stdout",
          "text": [
            "Epoch [36/50], Val Loss: 1.7914, Val Acc: 78.33%\n",
            "EarlyStopping counter: 1 out of 10\n"
          ]
        },
        {
          "output_type": "stream",
          "name": "stderr",
          "text": [
            "Train Epoch 37: 100%|██████████| 162/162 [01:53<00:00,  1.43it/s]\n"
          ]
        },
        {
          "output_type": "stream",
          "name": "stdout",
          "text": [
            "Epoch [37/50], Train Loss: 1.4739, Train Acc: 91.03%\n"
          ]
        },
        {
          "output_type": "stream",
          "name": "stderr",
          "text": [
            "Val Epoch 37: 100%|██████████| 3/3 [00:02<00:00,  1.38it/s]\n"
          ]
        },
        {
          "output_type": "stream",
          "name": "stdout",
          "text": [
            "Epoch [37/50], Val Loss: 1.7932, Val Acc: 78.33%\n",
            "EarlyStopping counter: 2 out of 10\n"
          ]
        },
        {
          "output_type": "stream",
          "name": "stderr",
          "text": [
            "Train Epoch 38: 100%|██████████| 162/162 [01:53<00:00,  1.42it/s]\n"
          ]
        },
        {
          "output_type": "stream",
          "name": "stdout",
          "text": [
            "Epoch [38/50], Train Loss: 1.4573, Train Acc: 91.67%\n"
          ]
        },
        {
          "output_type": "stream",
          "name": "stderr",
          "text": [
            "Val Epoch 38: 100%|██████████| 3/3 [00:02<00:00,  1.35it/s]\n"
          ]
        },
        {
          "output_type": "stream",
          "name": "stdout",
          "text": [
            "Epoch [38/50], Val Loss: 1.7675, Val Acc: 79.33%\n",
            "Validation loss decreased (1.781797 --> 1.767538).  Saving model ...\n",
            "!! New best model saved (Val Acc: 79.33%)\n"
          ]
        },
        {
          "output_type": "stream",
          "name": "stderr",
          "text": [
            "Train Epoch 39: 100%|██████████| 162/162 [01:53<00:00,  1.43it/s]\n"
          ]
        },
        {
          "output_type": "stream",
          "name": "stdout",
          "text": [
            "Epoch [39/50], Train Loss: 1.4560, Train Acc: 91.54%\n"
          ]
        },
        {
          "output_type": "stream",
          "name": "stderr",
          "text": [
            "Val Epoch 39: 100%|██████████| 3/3 [00:02<00:00,  1.26it/s]\n"
          ]
        },
        {
          "output_type": "stream",
          "name": "stdout",
          "text": [
            "Epoch [39/50], Val Loss: 1.7612, Val Acc: 81.33%\n",
            "Validation loss decreased (1.767538 --> 1.761159).  Saving model ...\n",
            "!! New best model saved (Val Acc: 81.33%)\n"
          ]
        },
        {
          "output_type": "stream",
          "name": "stderr",
          "text": [
            "Train Epoch 40: 100%|██████████| 162/162 [01:53<00:00,  1.43it/s]\n"
          ]
        },
        {
          "output_type": "stream",
          "name": "stdout",
          "text": [
            "Epoch [40/50], Train Loss: 1.4483, Train Acc: 91.86%\n"
          ]
        },
        {
          "output_type": "stream",
          "name": "stderr",
          "text": [
            "Val Epoch 40: 100%|██████████| 3/3 [00:02<00:00,  1.34it/s]\n"
          ]
        },
        {
          "output_type": "stream",
          "name": "stdout",
          "text": [
            "Epoch [40/50], Val Loss: 1.7543, Val Acc: 79.67%\n",
            "Validation loss decreased (1.761159 --> 1.754336).  Saving model ...\n"
          ]
        },
        {
          "output_type": "stream",
          "name": "stderr",
          "text": [
            "Train Epoch 41: 100%|██████████| 162/162 [01:52<00:00,  1.44it/s]\n"
          ]
        },
        {
          "output_type": "stream",
          "name": "stdout",
          "text": [
            "Epoch [41/50], Train Loss: 1.4357, Train Acc: 92.18%\n"
          ]
        },
        {
          "output_type": "stream",
          "name": "stderr",
          "text": [
            "Val Epoch 41: 100%|██████████| 3/3 [00:02<00:00,  1.41it/s]\n"
          ]
        },
        {
          "output_type": "stream",
          "name": "stdout",
          "text": [
            "Epoch [41/50], Val Loss: 1.7459, Val Acc: 79.67%\n",
            "Validation loss decreased (1.754336 --> 1.745916).  Saving model ...\n"
          ]
        },
        {
          "output_type": "stream",
          "name": "stderr",
          "text": [
            "Train Epoch 42: 100%|██████████| 162/162 [01:53<00:00,  1.43it/s]\n"
          ]
        },
        {
          "output_type": "stream",
          "name": "stdout",
          "text": [
            "Epoch [42/50], Train Loss: 1.4354, Train Acc: 92.09%\n"
          ]
        },
        {
          "output_type": "stream",
          "name": "stderr",
          "text": [
            "Val Epoch 42: 100%|██████████| 3/3 [00:02<00:00,  1.37it/s]\n"
          ]
        },
        {
          "output_type": "stream",
          "name": "stdout",
          "text": [
            "Epoch [42/50], Val Loss: 1.7297, Val Acc: 81.67%\n",
            "Validation loss decreased (1.745916 --> 1.729708).  Saving model ...\n",
            "!! New best model saved (Val Acc: 81.67%)\n"
          ]
        },
        {
          "output_type": "stream",
          "name": "stderr",
          "text": [
            "Train Epoch 43: 100%|██████████| 162/162 [01:53<00:00,  1.43it/s]\n"
          ]
        },
        {
          "output_type": "stream",
          "name": "stdout",
          "text": [
            "Epoch [43/50], Train Loss: 1.4269, Train Acc: 92.52%\n"
          ]
        },
        {
          "output_type": "stream",
          "name": "stderr",
          "text": [
            "Val Epoch 43: 100%|██████████| 3/3 [00:02<00:00,  1.38it/s]\n"
          ]
        },
        {
          "output_type": "stream",
          "name": "stdout",
          "text": [
            "Epoch [43/50], Val Loss: 1.7315, Val Acc: 80.67%\n",
            "EarlyStopping counter: 1 out of 10\n"
          ]
        },
        {
          "output_type": "stream",
          "name": "stderr",
          "text": [
            "Train Epoch 44: 100%|██████████| 162/162 [01:53<00:00,  1.42it/s]\n"
          ]
        },
        {
          "output_type": "stream",
          "name": "stdout",
          "text": [
            "Epoch [44/50], Train Loss: 1.4165, Train Acc: 92.88%\n"
          ]
        },
        {
          "output_type": "stream",
          "name": "stderr",
          "text": [
            "Val Epoch 44: 100%|██████████| 3/3 [00:02<00:00,  1.33it/s]\n"
          ]
        },
        {
          "output_type": "stream",
          "name": "stdout",
          "text": [
            "Epoch [44/50], Val Loss: 1.7214, Val Acc: 81.00%\n",
            "Validation loss decreased (1.729708 --> 1.721428).  Saving model ...\n"
          ]
        },
        {
          "output_type": "stream",
          "name": "stderr",
          "text": [
            "Train Epoch 45: 100%|██████████| 162/162 [01:52<00:00,  1.43it/s]\n"
          ]
        },
        {
          "output_type": "stream",
          "name": "stdout",
          "text": [
            "Epoch [45/50], Train Loss: 1.4016, Train Acc: 93.37%\n"
          ]
        },
        {
          "output_type": "stream",
          "name": "stderr",
          "text": [
            "Val Epoch 45: 100%|██████████| 3/3 [00:02<00:00,  1.39it/s]\n"
          ]
        },
        {
          "output_type": "stream",
          "name": "stdout",
          "text": [
            "Epoch [45/50], Val Loss: 1.7243, Val Acc: 80.67%\n",
            "EarlyStopping counter: 1 out of 10\n"
          ]
        },
        {
          "output_type": "stream",
          "name": "stderr",
          "text": [
            "Train Epoch 46: 100%|██████████| 162/162 [01:52<00:00,  1.44it/s]\n"
          ]
        },
        {
          "output_type": "stream",
          "name": "stdout",
          "text": [
            "Epoch [46/50], Train Loss: 1.4061, Train Acc: 93.14%\n"
          ]
        },
        {
          "output_type": "stream",
          "name": "stderr",
          "text": [
            "Val Epoch 46: 100%|██████████| 3/3 [00:02<00:00,  1.38it/s]\n"
          ]
        },
        {
          "output_type": "stream",
          "name": "stdout",
          "text": [
            "Epoch [46/50], Val Loss: 1.7250, Val Acc: 81.67%\n",
            "EarlyStopping counter: 2 out of 10\n"
          ]
        },
        {
          "output_type": "stream",
          "name": "stderr",
          "text": [
            "Train Epoch 47: 100%|██████████| 162/162 [01:54<00:00,  1.42it/s]\n"
          ]
        },
        {
          "output_type": "stream",
          "name": "stdout",
          "text": [
            "Epoch [47/50], Train Loss: 1.3975, Train Acc: 93.38%\n"
          ]
        },
        {
          "output_type": "stream",
          "name": "stderr",
          "text": [
            "Val Epoch 47: 100%|██████████| 3/3 [00:02<00:00,  1.31it/s]\n"
          ]
        },
        {
          "output_type": "stream",
          "name": "stdout",
          "text": [
            "Epoch [47/50], Val Loss: 1.7069, Val Acc: 83.00%\n",
            "Validation loss decreased (1.721428 --> 1.706874).  Saving model ...\n",
            "!! New best model saved (Val Acc: 83.00%)\n"
          ]
        },
        {
          "output_type": "stream",
          "name": "stderr",
          "text": [
            "Train Epoch 48: 100%|██████████| 162/162 [01:54<00:00,  1.41it/s]\n"
          ]
        },
        {
          "output_type": "stream",
          "name": "stdout",
          "text": [
            "Epoch [48/50], Train Loss: 1.3918, Train Acc: 93.56%\n"
          ]
        },
        {
          "output_type": "stream",
          "name": "stderr",
          "text": [
            "Val Epoch 48: 100%|██████████| 3/3 [00:02<00:00,  1.35it/s]\n"
          ]
        },
        {
          "output_type": "stream",
          "name": "stdout",
          "text": [
            "Epoch [48/50], Val Loss: 1.7145, Val Acc: 82.67%\n",
            "EarlyStopping counter: 1 out of 10\n"
          ]
        },
        {
          "output_type": "stream",
          "name": "stderr",
          "text": [
            "Train Epoch 49: 100%|██████████| 162/162 [01:53<00:00,  1.42it/s]\n"
          ]
        },
        {
          "output_type": "stream",
          "name": "stdout",
          "text": [
            "Epoch [49/50], Train Loss: 1.3827, Train Acc: 93.90%\n"
          ]
        },
        {
          "output_type": "stream",
          "name": "stderr",
          "text": [
            "Val Epoch 49: 100%|██████████| 3/3 [00:02<00:00,  1.33it/s]\n"
          ]
        },
        {
          "output_type": "stream",
          "name": "stdout",
          "text": [
            "Epoch [49/50], Val Loss: 1.7207, Val Acc: 81.67%\n",
            "EarlyStopping counter: 2 out of 10\n"
          ]
        },
        {
          "output_type": "stream",
          "name": "stderr",
          "text": [
            "Train Epoch 50: 100%|██████████| 162/162 [01:54<00:00,  1.41it/s]\n"
          ]
        },
        {
          "output_type": "stream",
          "name": "stdout",
          "text": [
            "Epoch [50/50], Train Loss: 1.3785, Train Acc: 94.15%\n"
          ]
        },
        {
          "output_type": "stream",
          "name": "stderr",
          "text": [
            "Val Epoch 50: 100%|██████████| 3/3 [00:02<00:00,  1.37it/s]\n"
          ]
        },
        {
          "output_type": "stream",
          "name": "stdout",
          "text": [
            "Epoch [50/50], Val Loss: 1.6983, Val Acc: 82.67%\n",
            "Validation loss decreased (1.706874 --> 1.698258).  Saving model ...\n",
            "Model sauved in : resnet50_modelV3.pth\n"
          ]
        },
        {
          "output_type": "display_data",
          "data": {
            "text/plain": [
              "<Figure size 1200x500 with 2 Axes>"
            ],
            "image/png": "[encoded data removed]"
          },
          "metadata": {}
        }
      ]
    },
    {
      "cell_type": "code",
      "source": [
        "# Test the model trained\n",
        "# Define a class to load test data\n",
        "class CustomTestDataset(Dataset):\n",
        "    def __init__(self, root_dir, transform=None):\n",
        "        self.root_dir = root_dir\n",
        "        self.transform = transform\n",
        "        self.image_files = [os.path.join(root_dir, f) for f in os.listdir(root_dir)\n",
        "                            if f.endswith(('.jpg'))]\n",
        "\n",
        "    def __len__(self):\n",
        "        return len(self.image_files)\n",
        "\n",
        "    def __getitem__(self, idx):\n",
        "        img_path = self.image_files[idx]\n",
        "        image = Image.open(img_path).convert('RGB')\n",
        "        if self.transform:\n",
        "            image = self.transform(image)\n",
        "        file_name = os.path.basename(img_path)\n",
        "        return image, file_name\n",
        "\n",
        "# Loading test file data\n",
        "test_dir = os.path.join(data_dir, 'test')  # Assure-toi que data_dir est défini\n",
        "test_dataset = CustomTestDataset(test_dir, transform=test_transform)\n",
        "test_loader = DataLoader(test_dataset, batch_size=32, shuffle=False)\n",
        "\n",
        "train_dataset = datasets.ImageFolder(os.path.join(data_dir, 'train'))\n",
        "class_to_idx = train_dataset.class_to_idx\n",
        "idx_to_classname = {v: k for k, v in class_to_idx.items()}\n",
        "\n",
        "\n",
        "# create the same model as training mode\n",
        "model = models.resnet50(pretrained=False)\n",
        "model.fc = torch.nn.Sequential(\n",
        "    torch.nn.Dropout(0.4),\n",
        "    torch.nn.Linear(2048, 512),\n",
        "    torch.nn.ReLU(),\n",
        "    torch.nn.Dropout(0.3),\n",
        "    torch.nn.Linear(512, 100)\n",
        ")\n",
        "\n",
        "# laoding the model trained\n",
        "model.load_state_dict(torch.load(\"resnet50_modelV3.pth\", map_location=device))\n",
        "model = model.to(device)\n",
        "model.eval()\n",
        "\n",
        "# Predictions\n",
        "predictions = []\n",
        "\n",
        "with torch.no_grad():\n",
        "    for inputs, file_names in test_loader:\n",
        "        inputs = inputs.to(device)\n",
        "        outputs = model(inputs)\n",
        "        _, predicted = outputs.max(1)\n",
        "        predicted = predicted.cpu().numpy()\n",
        "\n",
        "        for file_name, pred in zip(file_names, predicted):\n",
        "            true_label = idx_to_classname[pred]  # label sous forme de string (ex: '13')\n",
        "            predictions.append((file_name, true_label))\n",
        "\n",
        "# Save the prediction in a CSV file\n",
        "with open(\"predictionV3-3.csv\", \"w\", newline='') as csvfile:\n",
        "    writer = csv.writer(csvfile)\n",
        "    writer.writerow([\"file_name\", \"predicted_class\"])\n",
        "    for file_name, pred in predictions:\n",
        "        writer.writerow([file_name, pred])\n",
        "\n",
        "print(\"Prédictions sauvegardées dans 'predictionV3-3.csv'\")\n"
      ],
      "metadata": {
        "colab": {
          "base_uri": "https://localhost:8080/"
        },
        "id": "cgTr5smAE20w",
        "outputId": "c57caaef-6449-45fb-da8f-55935ef9f95f"
      },
      "execution_count": null,
      "outputs": [
        {
          "output_type": "stream",
          "name": "stderr",
          "text": [
            "/usr/local/lib/python3.11/dist-packages/torchvision/models/_utils.py:208: UserWarning: The parameter 'pretrained' is deprecated since 0.13 and may be removed in the future, please use 'weights' instead.\n",
            "  warnings.warn(\n",
            "/usr/local/lib/python3.11/dist-packages/torchvision/models/_utils.py:223: UserWarning: Arguments other than a weight enum or `None` for 'weights' are deprecated since 0.13 and may be removed in the future. The current behavior is equivalent to passing `weights=None`.\n",
            "  warnings.warn(msg)\n"
          ]
        },
        {
          "output_type": "stream",
          "name": "stdout",
          "text": [
            "Prédictions sauvegardées dans 'predictionV3-3.csv'\n"
          ]
        }
      ]
    },
    {
      "cell_type": "code",
      "source": [
        "from sklearn.metrics import confusion_matrix, ConfusionMatrixDisplay\n",
        "\n",
        "y_true = []\n",
        "y_pred = []\n",
        "\n",
        "with torch.no_grad():\n",
        "    for inputs, labels in val_loader:\n",
        "        inputs, labels = inputs.to(device), labels.to(device)\n",
        "        outputs = model(inputs)\n",
        "        _, predicted = outputs.max(1)\n",
        "        y_true.extend(labels.cpu().numpy())\n",
        "        y_pred.extend(predicted.cpu().numpy())\n",
        "\n",
        "cm = confusion_matrix(y_true, y_pred)\n",
        "ConfusionMatrixDisplay(cm, display_labels=train_dataset.classes).plot()\n",
        "plt.show()\n"
      ],
      "metadata": {
        "colab": {
          "base_uri": "https://localhost:8080/",
          "height": 455
        },
        "id": "CAMEMbMP_B1Z",
        "outputId": "fce9b32c-a93d-4239-9ccb-e7be9befbc17"
      },
      "execution_count": null,
      "outputs": [
        {
          "output_type": "display_data",
          "data": {
            "text/plain": [
              "<Figure size 640x480 with 2 Axes>"
            ],
            "image/png": "[encoded data removed]"
          },
          "metadata": {}
        }
      ]
    },
    {
      "cell_type": "code",
      "source": [],
      "metadata": {
        "id": "JVhrmW3OVZQP"
      },
      "execution_count": null,
      "outputs": []
    }
  ]
}
